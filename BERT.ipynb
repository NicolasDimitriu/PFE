{
 "cells": [
  {
   "cell_type": "markdown",
   "metadata": {
    "vscode": {
     "languageId": "powershell"
    }
   },
   "source": [
    "## E0 : Installer les dépendances"
   ]
  },
  {
   "cell_type": "code",
   "execution_count": null,
   "metadata": {
    "vscode": {
     "languageId": "powershell"
    }
   },
   "outputs": [],
   "source": [
    "pip install --upgrade pip\n",
    "pip install Flask PyPDF2 pdfplumber ipywidgets\n",
    "!pip install torch transformers datasets\n",
    "!pip install PyMuPDF"
   ]
  },
  {
   "cell_type": "markdown",
   "metadata": {},
   "source": [
    "## BERT"
   ]
  },
  {
   "cell_type": "code",
   "execution_count": null,
   "metadata": {},
   "outputs": [],
   "source": [
    "from transformers import BertTokenizer, BertForSequenceClassification, Trainer, TrainingArguments\n",
    "from torch.utils.data import Dataset, DataLoader\n",
    "import torch"
   ]
  },
  {
   "cell_type": "markdown",
   "metadata": {},
   "source": [
    "### Exemple de modèle de dataset"
   ]
  },
  {
   "cell_type": "code",
   "execution_count": null,
   "metadata": {},
   "outputs": [],
   "source": [
    "# Dataset personnalisé\n",
    "class ProceduralViceDataset(Dataset):\n",
    "    def __init__(self, texts, labels, tokenizer, max_len):\n",
    "        self.texts = texts\n",
    "        self.labels = labels\n",
    "        self.tokenizer = tokenizer\n",
    "        self.max_len = max_len\n",
    "\n",
    "    def __len__(self):\n",
    "        return len(self.texts)\n",
    "\n",
    "    def __getitem__(self, item):\n",
    "        text = self.texts[item]\n",
    "        label = self.labels[item]\n",
    "\n",
    "        encoding = self.tokenizer.encode_plus(\n",
    "            text,\n",
    "            add_special_tokens=True,\n",
    "            max_length=self.max_len,\n",
    "            padding='max_length',\n",
    "            truncation=True,\n",
    "            return_tensors='pt'\n",
    "        )\n",
    "\n",
    "        return {\n",
    "            'input_ids': encoding['input_ids'].flatten(),\n",
    "            'attention_mask': encoding['attention_mask'].flatten(),\n",
    "            'labels': torch.tensor(label, dtype=torch.long)\n",
    "        }"
   ]
  },
  {
   "cell_type": "markdown",
   "metadata": {},
   "source": [
    "### Charger le tokenizer et le modèle BERT pré-entrainé"
   ]
  },
  {
   "cell_type": "code",
   "execution_count": null,
   "metadata": {},
   "outputs": [],
   "source": [
    "# Charger le tokenizer BERT\n",
    "tokenizer = BertTokenizer.from_pretrained('bert-base-uncased')\n",
    "\n",
    "# Créer un modèle de classification\n",
    "model = BertForSequenceClassification.from_pretrained('bert-base-uncased', num_labels=2)\n",
    "\n",
    "# Vérifier le périphérique (GPU/CPU/MPS)\n",
    "device = torch.device(\"cuda\" if torch.cuda.is_available() else \"mps\" if torch.backends.mps.is_available() else \"cpu\")\n",
    "model.to(device)"
   ]
  },
  {
   "cell_type": "markdown",
   "metadata": {},
   "source": [
    "### Préparer les données (exemple fictif)"
   ]
  },
  {
   "cell_type": "code",
   "execution_count": null,
   "metadata": {},
   "outputs": [],
   "source": [
    "import random\n",
    "\n",
    "# Fonction pour générer un texte de procédure\n",
    "def generate_text():\n",
    "    # Scénarios de vices de procédure possibles\n",
    "    vices = [\n",
    "        \"Le juge a omis de notifier l'audience aux parties concernées.\",\n",
    "        \"Le jugement a été rendu sans que l'accusé ait eu la possibilité de se défendre.\",\n",
    "        \"La décision a été prise sans respecter les délais légaux.\",\n",
    "        \"L'appel a été jugé sans que les preuves aient été correctement examinées.\",\n",
    "        \"Le procureur a omis de présenter des preuves cruciales au tribunal.\",\n",
    "        \"Il n'y a pas eu de notification de l'audience au représentant de la défense.\"\n",
    "    ]\n",
    "    \n",
    "    # Scénarios sans vice de procédure\n",
    "    no_vices = [\n",
    "        \"Le jugement a été rendu après que l'accusé ait eu la possibilité de se défendre.\",\n",
    "        \"Les parties ont été dûment informées de la date de l'audience.\",\n",
    "        \"L'appel a été jugé dans les délais légaux.\",\n",
    "        \"Les preuves ont été minutieusement examinées avant la décision.\",\n",
    "        \"L'accusé a eu la possibilité de présenter tous les arguments lors de l'audience.\",\n",
    "        \"L'audience a eu lieu selon les normes et procédures établies.\"\n",
    "    ]\n",
    "    \n",
    "    # Choisir aléatoirement un scénario avec ou sans vice de procédure\n",
    "    if random.choice([True, False]):\n",
    "        text = random.choice(vices)\n",
    "        label = 1  # vice de procédure\n",
    "    else:\n",
    "        text = random.choice(no_vices)\n",
    "        label = 0  # pas de vice de procédure\n",
    "    \n",
    "    return text, label\n",
    "\n",
    "# Générer 100 exemples\n",
    "texts = []\n",
    "labels = []\n",
    "\n",
    "for _ in range(100):\n",
    "    text, label = generate_text()\n",
    "    texts.append(text)\n",
    "    labels.append(label)\n",
    "\n",
    "# Afficher un aperçu des premières valeurs\n",
    "print(\"Premiers textes:\", texts[:5])  # Afficher les 5 premiers textes\n",
    "print(\"Premiers labels:\", labels[:5])  # Afficher les 5 premiers labels\n"
   ]
  },
  {
   "cell_type": "code",
   "execution_count": null,
   "metadata": {},
   "outputs": [],
   "source": [
    "#texts = [\"Le texte 1 avec un vice de procédure\", \"Texte 2 sans vice de procédure\"]\n",
    "#labels = [1, 0]  # 1 = vice de procédure, 0 = pas de vice de procédure\n"
   ]
  },
  {
   "cell_type": "code",
   "execution_count": null,
   "metadata": {},
   "outputs": [],
   "source": [
    "# Créer le Dataset\n",
    "dataset = ProceduralViceDataset(texts, labels, tokenizer, max_len=512)\n",
    "\n",
    "# Diviser en train et validation\n",
    "train_size = int(0.8 * len(dataset))\n",
    "val_size = len(dataset) - train_size\n",
    "train_dataset, val_dataset = torch.utils.data.random_split(dataset, [train_size, val_size])\n",
    "\n",
    "# Arguments d'entraînement\n",
    "training_args = TrainingArguments(\n",
    "    output_dir='./results',\n",
    "    num_train_epochs=3,\n",
    "    per_device_train_batch_size=16,\n",
    "    per_device_eval_batch_size=16,\n",
    "    warmup_steps=500,\n",
    "    weight_decay=0.01,\n",
    "    logging_dir='./logs',\n",
    "    logging_steps=10,\n",
    ")\n",
    "\n",
    "# Créer un Trainer\n",
    "trainer = Trainer(\n",
    "    model=model,\n",
    "    args=training_args,\n",
    "    train_dataset=train_dataset,\n",
    "    eval_dataset=val_dataset,\n",
    ")\n",
    "\n",
    "# Fine-tuning du modèle\n",
    "trainer.train()\n",
    "\n",
    "# Fonction de prédiction\n",
    "def predict(text):\n",
    "    model.eval()\n",
    "    inputs = tokenizer(text, return_tensors=\"pt\", padding=True, truncation=True, max_length=512)\n",
    "    \n",
    "    # Déplacer les tensors sur le même périphérique que le modèle\n",
    "    inputs = {key: value.to(device) for key, value in inputs.items()}\n",
    "    \n",
    "    with torch.no_grad():\n",
    "        outputs = model(**inputs)\n",
    "        prediction = torch.argmax(outputs.logits, dim=-1)\n",
    "        \n",
    "    return \"Vice de procédure détecté\" if prediction == 1 else \"Pas de vice de procédure\"\n",
    "\n",
    "# Exemple de prédiction\n",
    "texte_a_predire = \"Le juge a omis de notifier l'audience aux parties concernées.\"\n",
    "print(predict(texte_a_predire))"
   ]
  }
 ],
 "metadata": {
  "colab": {
   "provenance": []
  },
  "kernelspec": {
   "display_name": "Python 3",
   "language": "python",
   "name": "python3"
  },
  "language_info": {
   "codemirror_mode": {
    "name": "ipython",
    "version": 3
   },
   "file_extension": ".py",
   "mimetype": "text/x-python",
   "name": "python",
   "nbconvert_exporter": "python",
   "pygments_lexer": "ipython3",
   "version": "3.12.7"
  }
 },
 "nbformat": 4,
 "nbformat_minor": 4
}
