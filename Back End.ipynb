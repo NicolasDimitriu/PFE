{
 "cells": [
  {
   "cell_type": "code",
   "execution_count": null,
   "metadata": {},
   "outputs": [],
   "source": [
    "import torch\n",
    "from transformers import BertForSequenceClassification, BertTokenizer\n",
    "\n",
    "# Chemin vers ton modèle fine-tuné\n",
    "model_path = '/Users/nicolasdimitriu/Desktop/PFE/results/checkpoint-15'  # Remplace par ton chemin exact\n",
    "\n",
    "# Charger le modèle et le tokenizer depuis le checkpoint\n",
    "model = BertForSequenceClassification.from_pretrained(model_path)\n",
    "tokenizer = BertTokenizer.from_pretrained(model_path)\n",
    "\n",
    "# Déplacer le modèle sur le périphérique approprié (GPU ou CPU)\n",
    "device = torch.device(\"cuda\" if torch.cuda.is_available() else \"cpu\")\n",
    "model.to(device)\n",
    "\n",
    "# Fonction de prédiction\n",
    "def predict(text):\n",
    "    model.eval()  # Mettre le modèle en mode évaluation\n",
    "    inputs = tokenizer(text, return_tensors=\"pt\", padding=True, truncation=True, max_length=512)\n",
    "\n",
    "    # Déplacer les tensors sur le même périphérique que le modèle (GPU ou CPU)\n",
    "    inputs = {key: value.to(device) for key, value in inputs.items()}\n",
    "\n",
    "    with torch.no_grad():  # Pas de calcul de gradients pendant la prédiction\n",
    "        outputs = model(**inputs)\n",
    "        logits = outputs.logits\n",
    "        prediction = torch.argmax(logits, dim=-1)  # Prendre la classe avec le plus haut score\n",
    "\n",
    "    # Retourner le résultat de la prédiction\n",
    "    if prediction == 1:\n",
    "        return \"Vice de procédure détecté\"\n",
    "    else:\n",
    "        return \"Pas de vice de procédure\"\n",
    "\n",
    "# Exemple de prédiction\n",
    "texte_a_predire = \"Le juge a omis de notifier l'audience aux parties concernées.\"\n",
    "resultat = predict(texte_a_predire)\n",
    "print(resultat)"
   ]
  }
 ],
 "metadata": {
  "colab": {
   "provenance": []
  },
  "kernelspec": {
   "display_name": "Python 3",
   "language": "python",
   "name": "python3"
  },
  "language_info": {
   "codemirror_mode": {
    "name": "ipython",
    "version": 3
   },
   "file_extension": ".py",
   "mimetype": "text/x-python",
   "name": "python",
   "nbconvert_exporter": "python",
   "pygments_lexer": "ipython3",
   "version": "3.12.7"
  }
 },
 "nbformat": 4,
 "nbformat_minor": 4
}
