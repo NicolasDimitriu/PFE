{
 "cells": [
  {
   "cell_type": "code",
   "execution_count": null,
   "metadata": {},
   "outputs": [],
   "source": [
    "## Lecture des PDF\n",
    "import ipywidgets as widgets\n",
    "from IPython.display import display, clear_output\n",
    "import fitz  # PyMuPDF\n",
    "import io\n",
    "import tempfile\n",
    "\n",
    "# Variable pour stocker le contenu du PDF\n",
    "contenu_pdf_stocke = \"\"\n",
    "\n",
    "# Fonction pour lire le contenu du PDF\n",
    "def lire_pdf(pdf_path):\n",
    "    with fitz.open(pdf_path) as doc:\n",
    "        texte_complet = \"\"\n",
    "        for page in doc:\n",
    "            texte_complet += page.get_text()\n",
    "    return texte_complet\n",
    "\n",
    "# Fonction pour gérer l'upload du fichier PDF\n",
    "def on_upload_change(change):\n",
    "    global contenu_pdf_stocke  # Utiliser la variable globale pour stocker le contenu\n",
    "    \n",
    "    # Effacer les anciens résultats\n",
    "    clear_output(wait=True)\n",
    "    \n",
    "    # Récupérer le fichier PDF téléchargé\n",
    "    pdf_file = change['new']\n",
    "    if pdf_file:\n",
    "        # Créer un fichier temporaire pour le contenu téléchargé\n",
    "        with tempfile.NamedTemporaryFile(delete=False, suffix=\".pdf\") as tmp_file:\n",
    "            tmp_file.write(pdf_file[0]['content'])\n",
    "            tmp_file.close()  # On ferme le fichier pour s'assurer qu'il peut être ouvert par fitz\n",
    "            \n",
    "            # Lire le contenu du PDF et le stocker dans la variable\n",
    "            contenu_pdf_stocke = lire_pdf(tmp_file.name)\n",
    "            print(\"Le contenu du PDF a été stocké dans la variable.\")\n",
    "    else:\n",
    "        print(\"Aucun fichier téléchargé.\")\n",
    "    \n",
    "    # Redonner la main à l'utilisateur\n",
    "    display(upload_button)\n",
    "\n",
    "# Créer le widget d'upload de fichier\n",
    "upload_button = widgets.FileUpload(\n",
    "    accept='.pdf',  # Limiter les fichiers acceptés aux PDF\n",
    "    multiple=False  # Permet uniquement un fichier à la fois\n",
    ")\n",
    "\n",
    "# Lier l'événement d'upload à la fonction de traitement\n",
    "upload_button.observe(on_upload_change, names='value')\n",
    "\n",
    "# Afficher le bouton d'upload\n",
    "display(upload_button)\n",
    "print(contenu_pdf_stocke)"
   ]
  }
 ],
 "metadata": {
  "colab": {
   "provenance": []
  },
  "kernelspec": {
   "display_name": "Python 3",
   "language": "python",
   "name": "python3"
  },
  "language_info": {
   "codemirror_mode": {
    "name": "ipython",
    "version": 3
   },
   "file_extension": ".py",
   "mimetype": "text/x-python",
   "name": "python",
   "nbconvert_exporter": "python",
   "pygments_lexer": "ipython3",
   "version": "3.12.7"
  }
 },
 "nbformat": 4,
 "nbformat_minor": 4
}
